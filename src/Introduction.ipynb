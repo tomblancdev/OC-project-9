{
 "cells": [
  {
   "cell_type": "markdown",
   "metadata": {},
   "source": [
    "<!-- add image from ../medias/logo.png -->\n",
    "![La poule qui chante logo](../medias/logo.png)"
   ]
  },
  {
   "cell_type": "markdown",
   "metadata": {},
   "source": [
    "# Introduction"
   ]
  },
  {
   "cell_type": "markdown",
   "metadata": {},
   "source": [
    "## Sommaire"
   ]
  },
  {
   "cell_type": "markdown",
   "metadata": {},
   "source": [
    "\n",
    "- [Introduction](#introduction)\n",
    "  - [Sommaire](#sommaire)\n",
    "  - [Présentation](#présentation)\n",
    "  - [Objectifs](#objectifs)"
   ]
  },
  {
   "cell_type": "markdown",
   "metadata": {},
   "source": [
    "## Présentation"
   ]
  },
  {
   "cell_type": "markdown",
   "metadata": {},
   "source": [
    "\n",
    "Vous travaillez chez La poule qui chante, une entreprise française d’agroalimentaire. Elle souhaite se développer à l'international."
   ]
  },
  {
   "cell_type": "markdown",
   "metadata": {},
   "source": [
    "## Objectifs"
   ]
  },
  {
   "cell_type": "markdown",
   "metadata": {},
   "source": [
    "\n",
    "L'international, oui, mais pour l'instant, le champ des possibles est bien large : aucun pays particulier ni aucun continent n'est pour le moment choisi. Tous les pays sont envisageables !\n",
    "\n",
    "Votre manager, Patrick, vous briefe par un e-mail :"
   ]
  },
  {
   "cell_type": "markdown",
   "metadata": {},
   "source": [
    "### Email de Patrick"
   ]
  },
  {
   "cell_type": "markdown",
   "metadata": {},
   "source": [
    "\n",
    "```text\n",
    "De : Patrick\n",
    "À : Moi\n",
    "Objet : Lancement mission data international\n",
    "\n",
    "Salut !\n",
    "\n",
    "Comme on en a déjà brièvement parlé, je te fais ce mail pour te briefer sur la mission d’analyse pour le lancement à l’international.\n",
    "\n",
    "Ton objectif sera de proposer une première analyse des groupements de pays que l’on peut cibler pour exporter nos poulets. Nous approfondirons ensuite l'étude de marché. \n",
    "\n",
    "Tu seras en totale autonomie sur ce projet, notamment sur le choix des données à analyser et même du langage à utiliser (R ou Python). \n",
    "\n",
    "Pars des données de la FAO (Food and Agriculture Organization) que je te mets en pièce jointe pour faire ton analyse. Si tu veux aller plus loin, notamment avec les critères de l’analyse PESTEL, tu peux récupérer et utiliser toutes les données en open data que tu souhaites sur le site de la FAO.\n",
    "\n",
    "Pour la partie analyse, dans un premier temps j’aimerais que tu testes la classification ascendante hiérarchique, avec un dendrogramme comme visualisation. Ensuite tu pourras utiliser la méthode des k-means, afin d’affiner l’analyse et comparer les résultats des deux méthodes de clustering. N'hésite pas à prendre le temps d’analyser les centroïdes de tes classes. Tu peux également réaliser une ACP afin de visualiser les résultats de ton analyse, comprendre les groupes, les liens entre les variables, les liens entre les individus...\n",
    "\n",
    "Voici ce que j’attends de toi :\n",
    "\n",
    "un notebook ou fichier R contenant la préparation, le nettoyage et l’analyse exploratoire des données ;\n",
    "un notebook ou fichier R contenant le/les clusterings effectués, et les différentes visualisations associées ;\n",
    "une présentation qui récapitule les points suivants : \n",
    "le contexte du projet de data analyse ;\n",
    "votre démarche (sans entrer dans les détails mathématiques, mais en vulgarisant les sujets abordés) ;\n",
    "vos résultats et recommandations.\n",
    " \n",
    "\n",
    "Bon courage !\n",
    "\n",
    "Patrick\n",
    "```"
   ]
  },
  {
   "cell_type": "markdown",
   "metadata": {},
   "source": [
    "## Sources de données"
   ]
  },
  {
   "cell_type": "markdown",
   "metadata": {},
   "source": [
    "| Nom | Description | Source | Format | Chemin |\n",
    "| :--- | :--- | :--- | :--- | :--- |\n",
    "| DisponibiliteAlimentaire_2017.csv | Disponibilité alimentaire en quantité \\(kg/personne/an\\) | Mail Patrick | CSV | [../data/incomming/DisponibiliteAlimentaire\\_2017.csv](../data/incomming/DisponibiliteAlimentaire\\_2017.csv) |\n",
    "| Population_2000_2018.csv | Population par pays de 2000 à 2018 | Mail Patrick | CSV | [../data/incomming/Population\\_2000\\_2018.csv](../data/incomming/Population\\_2000\\_2018.csv) |\n",
    "| population_urbaine.csv | % Population urbaine par pays par année | [https://donnees.banquemondiale.org/](https://donnees.banquemondiale.org/) | CSV | [../data/incomming/databank/population\\_urbaine.csv](../data/incomming/databank/population\\_urbaine.csv) |\n",
    "| indice_de_facilite_de_faire_des_affaires.csv | Indice de facilité de faire des affaires par pays par année | [https://donnees.banquemondiale.org/](https://donnees.banquemondiale.org/) | CSV | [../data/incomming/indice\\_de\\_facilite\\_de\\_faire\\_des\\_affaires.csv](../data/incomming/databank/indice\\_de\\_facilite\\_de\\_faire\\_des\\_affaires.csv) |\n",
    "| prevalence_de_la_malnutrition.csv | Prévalence de la malnutrition par pays par année | [https://donnees.banquemondiale.org/](https://donnees.banquemondiale.org/) | CSV | [../data/incomming/databank/prevalence\\_de\\_la\\_malnutrition.csv](../data/incomming/databank/prevalence\\_de\\_la\\_malnutrition.csv) |\n",
    "| PIB.csv | PIB par pays par année | [https://donnees.banquemondiale.org/](https://donnees.banquemondiale.org/) | CSV | [../data/incomming/databank/PIB.csv](../data/incomming/databank/PIB.csv) |\n",
    "| traffic_conteneur_dans_les_ports.csv | Traffic conteneur dans les ports par pays par année | [https://donnees.banquemondiale.org/](https://donnees.banquemondiale.org/) | CSV | [../data/incomming/databank/traffic\\_conteneur\\_dans\\_les\\_ports.csv](../data/incomming/databank/traffic\\_conteneur\\_dans\\_les\\_ports.csv) |\n",
    "| lignes_chemin_de_fer.csv | Lignes chemin de fer par pays par année | [https://donnees.banquemondiale.org/](https://donnees.banquemondiale.org/) | CSV | [../data/incomming/databank/lignes\\_chemin\\_de\\_fer.csv](../data/incomming/databank/lignes\\_chemin\\_de\\_fer.csv) |"
   ]
  },
  {
   "cell_type": "markdown",
   "metadata": {},
   "source": [
    "> toutes les données databank sont au meme format \\(meme nombre de colonnes, meme nom de colonnes, meme type de données\\)"
   ]
  }
 ],
 "metadata": {
  "language_info": {
   "name": "python"
  }
 },
 "nbformat": 4,
 "nbformat_minor": 2
}
